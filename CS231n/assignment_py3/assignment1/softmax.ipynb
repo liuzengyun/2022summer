{
 "cells": [
  {
   "cell_type": "markdown",
   "metadata": {},
   "source": [
    "# Softmax exercise\n",
    "\n",
    "*Complete and hand in this completed worksheet (including its outputs and any supporting code outside of the worksheet) with your assignment submission. For more details see the [assignments page](http://vision.stanford.edu/teaching/cs231n/assignments.html) on the course website.*\n",
    "\n",
    "This exercise is analogous to the SVM exercise. You will:\n",
    "\n",
    "- implement a fully-vectorized **loss function** for the Softmax classifier\n",
    "- implement the fully-vectorized expression for its **analytic gradient**\n",
    "- **check your implementation** with numerical gradient\n",
    "- use a validation set to **tune the learning rate and regularization** strength\n",
    "- **optimize** the loss function with **SGD**\n",
    "- **visualize** the final learned weights\n"
   ]
  },
  {
   "cell_type": "code",
   "execution_count": 1,
   "metadata": {
    "collapsed": false
   },
   "outputs": [],
   "source": [
    "import random\n",
    "import numpy as np\n",
    "from cs231n.data_utils import load_CIFAR10\n",
    "import matplotlib.pyplot as plt\n",
    "\n",
    "from __future__ import print_function\n",
    "\n",
    "%matplotlib inline\n",
    "plt.rcParams['figure.figsize'] = (10.0, 8.0) # set default size of plots\n",
    "plt.rcParams['image.interpolation'] = 'nearest'\n",
    "plt.rcParams['image.cmap'] = 'gray'\n",
    "\n",
    "# for auto-reloading extenrnal modules\n",
    "# see http://stackoverflow.com/questions/1907993/autoreload-of-modules-in-ipython\n",
    "%load_ext autoreload\n",
    "%autoreload 2"
   ]
  },
  {
   "cell_type": "code",
   "execution_count": 2,
   "metadata": {
    "collapsed": false
   },
   "outputs": [
    {
     "name": "stdout",
     "output_type": "stream",
     "text": [
      "Train data shape:  (49000, 3073)\n",
      "Train labels shape:  (49000,)\n",
      "Validation data shape:  (1000, 3073)\n",
      "Validation labels shape:  (1000,)\n",
      "Test data shape:  (1000, 3073)\n",
      "Test labels shape:  (1000,)\n",
      "dev data shape:  (500, 3073)\n",
      "dev labels shape:  (500,)\n"
     ]
    }
   ],
   "source": [
    "def get_CIFAR10_data(num_training=49000, num_validation=1000, num_test=1000, num_dev=500):\n",
    "    \"\"\"\n",
    "    Load the CIFAR-10 dataset from disk and perform preprocessing to prepare\n",
    "    it for the linear classifier. These are the same steps as we used for the\n",
    "    SVM, but condensed to a single function.  \n",
    "    \"\"\"\n",
    "    # Load the raw CIFAR-10 data\n",
    "    cifar10_dir = 'cs231n/datasets/cifar-10-batches-py'\n",
    "    X_train, y_train, X_test, y_test = load_CIFAR10(cifar10_dir)\n",
    "    \n",
    "    # subsample the data\n",
    "    mask = list(range(num_training, num_training + num_validation))\n",
    "    X_val = X_train[mask]\n",
    "    y_val = y_train[mask]\n",
    "    mask = list(range(num_training))\n",
    "    X_train = X_train[mask]\n",
    "    y_train = y_train[mask]\n",
    "    mask = list(range(num_test))\n",
    "    X_test = X_test[mask]\n",
    "    y_test = y_test[mask]\n",
    "    mask = np.random.choice(num_training, num_dev, replace=False)\n",
    "    X_dev = X_train[mask]\n",
    "    y_dev = y_train[mask]\n",
    "    \n",
    "    # Preprocessing: reshape the image data into rows\n",
    "    X_train = np.reshape(X_train, (X_train.shape[0], -1))\n",
    "    X_val = np.reshape(X_val, (X_val.shape[0], -1))\n",
    "    X_test = np.reshape(X_test, (X_test.shape[0], -1))\n",
    "    X_dev = np.reshape(X_dev, (X_dev.shape[0], -1))\n",
    "    \n",
    "    # Normalize the data: subtract the mean image\n",
    "    mean_image = np.mean(X_train, axis = 0)\n",
    "    X_train -= mean_image\n",
    "    X_val -= mean_image\n",
    "    X_test -= mean_image\n",
    "    X_dev -= mean_image\n",
    "    \n",
    "    # add bias dimension and transform into columns\n",
    "    X_train = np.hstack([X_train, np.ones((X_train.shape[0], 1))])\n",
    "    X_val = np.hstack([X_val, np.ones((X_val.shape[0], 1))])\n",
    "    X_test = np.hstack([X_test, np.ones((X_test.shape[0], 1))])\n",
    "    X_dev = np.hstack([X_dev, np.ones((X_dev.shape[0], 1))])\n",
    "    \n",
    "    return X_train, y_train, X_val, y_val, X_test, y_test, X_dev, y_dev\n",
    "\n",
    "\n",
    "# Invoke the above function to get our data.\n",
    "X_train, y_train, X_val, y_val, X_test, y_test, X_dev, y_dev = get_CIFAR10_data()\n",
    "print('Train data shape: ', X_train.shape)\n",
    "print('Train labels shape: ', y_train.shape)\n",
    "print('Validation data shape: ', X_val.shape)\n",
    "print('Validation labels shape: ', y_val.shape)\n",
    "print('Test data shape: ', X_test.shape)\n",
    "print('Test labels shape: ', y_test.shape)\n",
    "print('dev data shape: ', X_dev.shape)\n",
    "print('dev labels shape: ', y_dev.shape)"
   ]
  },
  {
   "cell_type": "markdown",
   "metadata": {},
   "source": [
    "## Softmax Classifier\n",
    "\n",
    "Your code for this section will all be written inside **cs231n/classifiers/softmax.py**. \n"
   ]
  },
  {
   "cell_type": "code",
   "execution_count": 13,
   "metadata": {
    "collapsed": false
   },
   "outputs": [
    {
     "name": "stdout",
     "output_type": "stream",
     "text": [
      "loss: 2.393554\n",
      "sanity check: 2.302585\n"
     ]
    }
   ],
   "source": [
    "# First implement the naive softmax loss function with nested loops.\n",
    "# Open the file cs231n/classifiers/softmax.py and implement the\n",
    "# softmax_loss_naive function.\n",
    "\n",
    "from cs231n.classifiers.softmax import softmax_loss_naive\n",
    "import time\n",
    "\n",
    "# Generate a random softmax weight matrix and use it to compute the loss.\n",
    "W = np.random.randn(3073, 10) * 0.0001\n",
    "loss, grad = softmax_loss_naive(W, X_dev, y_dev, 0.0)\n",
    "\n",
    "# As a rough sanity check, our loss should be something close to -log(0.1).\n",
    "print('loss: %f' % loss)\n",
    "print('sanity check: %f' % (-np.log(0.1)))"
   ]
  },
  {
   "cell_type": "markdown",
   "metadata": {},
   "source": [
    "## Inline Question 1:\n",
    "Why do we expect our loss to be close to -log(0.1)? Explain briefly.**\n",
    "\n",
    "**Your answer:** \n",
    "- 当权重初始化为0时，输出的对数概率为0，得到的损失函数为-log(1/num_class)\n"
   ]
  },
  {
   "cell_type": "code",
   "execution_count": 14,
   "metadata": {
    "collapsed": false
   },
   "outputs": [
    {
     "name": "stdout",
     "output_type": "stream",
     "text": [
      "位置 0： (2459, 4)\n",
      "numerical: 0.247283 analytic: 0.247283, relative error: 2.427208e-07\n",
      "位置 1： (393, 6)\n",
      "numerical: 3.509225 analytic: 3.509225, relative error: 2.063856e-08\n",
      "位置 2： (1853, 3)\n",
      "numerical: 0.480746 analytic: 0.480746, relative error: 8.966060e-08\n",
      "位置 3： (309, 9)\n",
      "numerical: -3.688541 analytic: -3.688541, relative error: 1.401741e-08\n",
      "位置 4： (1861, 1)\n",
      "numerical: 0.762717 analytic: 0.762717, relative error: 3.601330e-09\n",
      "位置 5： (2955, 2)\n",
      "numerical: 0.785765 analytic: 0.785765, relative error: 7.642031e-08\n",
      "位置 6： (2572, 7)\n",
      "numerical: -0.233793 analytic: -0.233793, relative error: 5.273717e-08\n",
      "位置 7： (1038, 7)\n",
      "numerical: -0.274106 analytic: -0.274106, relative error: 1.259637e-08\n",
      "位置 8： (3052, 9)\n",
      "numerical: -2.827151 analytic: -2.827151, relative error: 3.208939e-10\n",
      "位置 9： (1959, 5)\n",
      "numerical: -2.158399 analytic: -2.158399, relative error: 4.619854e-09\n",
      "位置 0： (1007, 7)\n",
      "numerical: -0.270363 analytic: -0.270364, relative error: 1.187411e-07\n",
      "位置 1： (1682, 7)\n",
      "numerical: 1.534502 analytic: 1.534502, relative error: 1.074253e-08\n",
      "位置 2： (1371, 3)\n",
      "numerical: -0.182683 analytic: -0.182683, relative error: 9.188007e-08\n",
      "位置 3： (2670, 6)\n",
      "numerical: 0.750345 analytic: 0.750345, relative error: 3.808506e-08\n",
      "位置 4： (2729, 0)\n",
      "numerical: -3.900472 analytic: -3.900472, relative error: 1.565499e-08\n",
      "位置 5： (1295, 8)\n",
      "numerical: -3.139857 analytic: -3.139857, relative error: 8.812208e-09\n",
      "位置 6： (2151, 6)\n",
      "numerical: -0.454664 analytic: -0.454664, relative error: 2.838425e-09\n",
      "位置 7： (2682, 4)\n",
      "numerical: 0.452421 analytic: 0.452421, relative error: 9.862506e-08\n",
      "位置 8： (159, 3)\n",
      "numerical: -0.860225 analytic: -0.860225, relative error: 2.556838e-08\n",
      "位置 9： (1975, 6)\n",
      "numerical: -0.472666 analytic: -0.472666, relative error: 2.492820e-08\n"
     ]
    }
   ],
   "source": [
    "# Complete the implementation of softmax_loss_naive and implement a (naive)\n",
    "# version of the gradient that uses nested loops.\n",
    "loss, grad = softmax_loss_naive(W, X_dev, y_dev, 0.0)\n",
    "\n",
    "# As we did for the SVM, use numeric gradient checking as a debugging tool.\n",
    "# The numeric gradient should be close to the analytic gradient.\n",
    "from cs231n.gradient_check import grad_check_sparse\n",
    "f = lambda w: softmax_loss_naive(w, X_dev, y_dev, 0.0)[0]\n",
    "grad_numerical = grad_check_sparse(f, W, grad, 10)\n",
    "\n",
    "# similar to SVM case, do another gradient check with regularization\n",
    "loss, grad = softmax_loss_naive(W, X_dev, y_dev, 5e1)\n",
    "f = lambda w: softmax_loss_naive(w, X_dev, y_dev, 5e1)[0]\n",
    "grad_numerical = grad_check_sparse(f, W, grad, 10)"
   ]
  },
  {
   "cell_type": "code",
   "execution_count": 15,
   "metadata": {
    "collapsed": false
   },
   "outputs": [
    {
     "name": "stdout",
     "output_type": "stream",
     "text": [
      "naive loss: 2.393554e+00 computed in 0.180000s\n",
      "vectorized loss: 2.393554e+00 computed in 0.009000s\n",
      "Loss difference: 0.000000\n",
      "Gradient difference: 0.000000\n"
     ]
    }
   ],
   "source": [
    "# Now that we have a naive implementation of the softmax loss function and its gradient,\n",
    "# implement a vectorized version in softmax_loss_vectorized.\n",
    "# The two versions should compute the same results, but the vectorized version should be\n",
    "# much faster.\n",
    "tic = time.time()\n",
    "loss_naive, grad_naive = softmax_loss_naive(W, X_dev, y_dev, 0.000001)\n",
    "toc = time.time()\n",
    "print('naive loss: %e computed in %fs' % (loss_naive, toc - tic))\n",
    "\n",
    "from cs231n.classifiers.softmax import softmax_loss_vectorized\n",
    "tic = time.time()\n",
    "loss_vectorized, grad_vectorized = softmax_loss_vectorized(W, X_dev, y_dev, 0.000001)\n",
    "toc = time.time()\n",
    "print('vectorized loss: %e computed in %fs' % (loss_vectorized, toc - tic))\n",
    "\n",
    "# As we did for the SVM, we use the Frobenius norm to compare the two versions\n",
    "# of the gradient.\n",
    "grad_difference = np.linalg.norm(grad_naive - grad_vectorized, ord='fro')\n",
    "print('Loss difference: %f' % np.abs(loss_naive - loss_vectorized))\n",
    "print('Gradient difference: %f' % grad_difference)"
   ]
  },
  {
   "cell_type": "code",
   "execution_count": 16,
   "metadata": {
    "collapsed": false
   },
   "outputs": [
    {
     "name": "stdout",
     "output_type": "stream",
     "text": [
      "training accuracy: 0.353776\n",
      "validation accuracy: 0.367000\n",
      "**********************************\n",
      "training accuracy: 0.342408\n",
      "validation accuracy: 0.351000\n",
      "**********************************\n",
      "training accuracy: 0.331694\n",
      "validation accuracy: 0.340000\n",
      "**********************************\n",
      "training accuracy: 0.333816\n",
      "validation accuracy: 0.348000\n",
      "**********************************\n",
      "training accuracy: 0.350102\n",
      "validation accuracy: 0.361000\n",
      "**********************************\n",
      "training accuracy: 0.342694\n",
      "validation accuracy: 0.358000\n",
      "**********************************\n",
      "training accuracy: 0.340204\n",
      "validation accuracy: 0.351000\n",
      "**********************************\n",
      "training accuracy: 0.332878\n",
      "validation accuracy: 0.343000\n",
      "**********************************\n",
      "training accuracy: 0.347306\n",
      "validation accuracy: 0.356000\n",
      "**********************************\n",
      "training accuracy: 0.335857\n",
      "validation accuracy: 0.349000\n",
      "**********************************\n",
      "training accuracy: 0.343061\n",
      "validation accuracy: 0.356000\n",
      "**********************************\n",
      "training accuracy: 0.333633\n",
      "validation accuracy: 0.351000\n",
      "**********************************\n",
      "training accuracy: 0.348633\n",
      "validation accuracy: 0.354000\n",
      "**********************************\n",
      "training accuracy: 0.345041\n",
      "validation accuracy: 0.350000\n",
      "**********************************\n",
      "training accuracy: 0.337041\n",
      "validation accuracy: 0.345000\n",
      "**********************************\n",
      "training accuracy: 0.333939\n",
      "validation accuracy: 0.354000\n",
      "**********************************\n",
      "lr 1.000000e-07 reg 2.500000e+04 train accuracy: 0.353776 val accuracy: 0.367000\n",
      "lr 1.000000e-07 reg 3.125000e+04 train accuracy: 0.342408 val accuracy: 0.351000\n",
      "lr 1.000000e-07 reg 3.750000e+04 train accuracy: 0.331694 val accuracy: 0.340000\n",
      "lr 1.000000e-07 reg 4.375000e+04 train accuracy: 0.333816 val accuracy: 0.348000\n",
      "lr 2.000000e-07 reg 2.500000e+04 train accuracy: 0.350102 val accuracy: 0.361000\n",
      "lr 2.000000e-07 reg 3.125000e+04 train accuracy: 0.342694 val accuracy: 0.358000\n",
      "lr 2.000000e-07 reg 3.750000e+04 train accuracy: 0.340204 val accuracy: 0.351000\n",
      "lr 2.000000e-07 reg 4.375000e+04 train accuracy: 0.332878 val accuracy: 0.343000\n",
      "lr 3.000000e-07 reg 2.500000e+04 train accuracy: 0.347306 val accuracy: 0.356000\n",
      "lr 3.000000e-07 reg 3.125000e+04 train accuracy: 0.335857 val accuracy: 0.349000\n",
      "lr 3.000000e-07 reg 3.750000e+04 train accuracy: 0.343061 val accuracy: 0.356000\n",
      "lr 3.000000e-07 reg 4.375000e+04 train accuracy: 0.333633 val accuracy: 0.351000\n",
      "lr 4.000000e-07 reg 2.500000e+04 train accuracy: 0.348633 val accuracy: 0.354000\n",
      "lr 4.000000e-07 reg 3.125000e+04 train accuracy: 0.345041 val accuracy: 0.350000\n",
      "lr 4.000000e-07 reg 3.750000e+04 train accuracy: 0.337041 val accuracy: 0.345000\n",
      "lr 4.000000e-07 reg 4.375000e+04 train accuracy: 0.333939 val accuracy: 0.354000\n",
      "best validation accuracy achieved during cross-validation: 0.367000\n"
     ]
    }
   ],
   "source": [
    "# Use the validation set to tune hyperparameters (regularization strength and\n",
    "# learning rate). You should experiment with different ranges for the learning\n",
    "# rates and regularization strengths; if you are careful you should be able to\n",
    "# get a classification accuracy of over 0.35 on the validation set.\n",
    "from cs231n.classifiers import Softmax\n",
    "results = {}\n",
    "best_val = -1\n",
    "best_softmax = None\n",
    "learning_rates = [1e-7, 5e-7]\n",
    "regularization_strengths = [2.5e4, 5e4]\n",
    "num_lr=4 # learning rate的个数\n",
    "num_r=4 # regularization_strength的个数\n",
    "################################################################################\n",
    "# TODO:                                                                        #\n",
    "# Use the validation set to set the learning rate and regularization strength. #\n",
    "# This should be identical to the validation that you did for the SVM; save    #\n",
    "# the best trained softmax classifer in best_softmax.                          #\n",
    "################################################################################\n",
    "for lr in np.arange(learning_rates[0],learning_rates[1],(learning_rates[1]-learning_rates[0])/num_lr):\n",
    "    for r in np.arange(regularization_strengths[0],regularization_strengths[1],(regularization_strengths[1]-regularization_strengths[0])/num_r):\n",
    "        softmax=Softmax() # 权重值保存在softmax\n",
    "        softmax.train(X_train,y_train,learning_rate=lr,reg=r,num_iters=2000)\n",
    "        y_train_pred=softmax.predict(X_train)\n",
    "        train_accuracy=np.mean(y_train==y_train_pred)\n",
    "        print('training accuracy: %f' % (train_accuracy))\n",
    "        y_val_pred=softmax.predict(X_val)\n",
    "        val_accuracy=np.mean(y_val==y_val_pred)\n",
    "        print('validation accuracy: %f' % (val_accuracy))\n",
    "        print(\"**********************************\")\n",
    "        \n",
    "        if val_accuracy>best_val:\n",
    "            best_val=val_accuracy\n",
    "            best_softmax=softmax\n",
    "            \n",
    "        results[(lr,r)]=(train_accuracy,val_accuracy)\n",
    "################################################################################\n",
    "#                              END OF YOUR CODE                                #\n",
    "################################################################################\n",
    "    \n",
    "# Print out results.\n",
    "for lr, reg in sorted(results):\n",
    "    train_accuracy, val_accuracy = results[(lr, reg)]\n",
    "    print('lr %e reg %e train accuracy: %f val accuracy: %f' % (\n",
    "                lr, reg, train_accuracy, val_accuracy))\n",
    "    \n",
    "print('best validation accuracy achieved during cross-validation: %f' % best_val)"
   ]
  },
  {
   "cell_type": "code",
   "execution_count": 17,
   "metadata": {
    "collapsed": false
   },
   "outputs": [
    {
     "name": "stdout",
     "output_type": "stream",
     "text": [
      "softmax on raw pixels final test set accuracy: 0.357000\n"
     ]
    }
   ],
   "source": [
    "# evaluate on test set\n",
    "# Evaluate the best softmax on test set\n",
    "y_test_pred = best_softmax.predict(X_test)\n",
    "test_accuracy = np.mean(y_test == y_test_pred)\n",
    "print('softmax on raw pixels final test set accuracy: %f' % (test_accuracy, ))"
   ]
  },
  {
   "cell_type": "code",
   "execution_count": 18,
   "metadata": {
    "collapsed": false
   },
   "outputs": [
    {
     "data": {
      "image/png": "[encoded data removed]",
      "text/plain": [
       "<matplotlib.figure.Figure at 0x1e68252ae48>"
      ]
     },
     "metadata": {},
     "output_type": "display_data"
    }
   ],
   "source": [
    "# Visualize the learned weights for each class\n",
    "w = best_softmax.W[:-1,:] # strip out the bias\n",
    "w = w.reshape(32, 32, 3, 10)\n",
    "\n",
    "w_min, w_max = np.min(w), np.max(w)\n",
    "\n",
    "classes = ['plane', 'car', 'bird', 'cat', 'deer', 'dog', 'frog', 'horse', 'ship', 'truck']\n",
    "for i in range(10):\n",
    "    plt.subplot(2, 5, i + 1)\n",
    "    \n",
    "    # Rescale the weights to be between 0 and 255\n",
    "    wimg = 255.0 * (w[:, :, :, i].squeeze() - w_min) / (w_max - w_min)\n",
    "    plt.imshow(wimg.astype('uint8'))\n",
    "    plt.axis('off')\n",
    "    plt.title(classes[i])"
   ]
  }
 ],
 "metadata": {
  "kernelspec": {
   "display_name": "Python 3",
   "language": "python",
   "name": "python3"
  },
  "language_info": {
   "codemirror_mode": {
    "name": "ipython",
    "version": 3
   },
   "file_extension": ".py",
   "mimetype": "text/x-python",
   "name": "python",
   "nbconvert_exporter": "python",
   "pygments_lexer": "ipython3",
   "version": "3.5.2"
  }
 },
 "nbformat": 4,
 "nbformat_minor": 0
}
