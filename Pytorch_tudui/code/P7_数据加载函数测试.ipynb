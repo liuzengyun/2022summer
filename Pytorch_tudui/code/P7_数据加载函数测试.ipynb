{
 "cells": [
  {
   "cell_type": "code",
   "execution_count": 1,
   "id": "ecbd85d5",
   "metadata": {},
   "outputs": [],
   "source": [
    "from PIL import Image\n",
    "img_path = \"/home/lance/lzy_2022/2022summer/Pytorch_tudui/code/data/hymenoptera_data/train/ants/0013035.jpg\"\n",
    "img = Image.open(img_path)\n",
    "img.show()"
   ]
  },
  {
   "cell_type": "code",
   "execution_count": null,
   "id": "08d25031",
   "metadata": {},
   "outputs": [],
   "source": []
  }
 ],
 "metadata": {
  "kernelspec": {
   "display_name": "Python [conda env:tudui] *",
   "language": "python",
   "name": "conda-env-tudui-py"
  },
  "language_info": {
   "codemirror_mode": {
    "name": "ipython",
    "version": 3
   },
   "file_extension": ".py",
   "mimetype": "text/x-python",
   "name": "python",
   "nbconvert_exporter": "python",
   "pygments_lexer": "ipython3",
   "version": "3.6.13"
  }
 },
 "nbformat": 4,
 "nbformat_minor": 5
}
